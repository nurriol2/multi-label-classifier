{
  "nbformat": 4,
  "nbformat_minor": 0,
  "metadata": {
    "colab": {
      "name": "Multi-label Classifier",
      "provenance": [],
      "collapsed_sections": []
    },
    "kernelspec": {
      "name": "python3",
      "display_name": "Python 3"
    }
  },
  "cells": [
    {
      "cell_type": "markdown",
      "metadata": {
        "id": "WoRT5TsVVbEG"
      },
      "source": [
        "# Notes #\n",
        "\n",
        "- APIMetadata emulates a dictionary, except attributes cannot be accessed through indexing. Must use '.' to access attributes.\n",
        "\n",
        "- To create an instance of pokemon requires the ID or name. I think the name attribute then copies this input.\n",
        "\n",
        "- Several .csv have columns connected to each other [here](https://github.com/PokeAPI/pokedex/tree/master-pokeapi/pokedex/data/csv)\n",
        "    - [pokemon.csv](https://github.com/PokeAPI/pokedex/blob/master-pokeapi/pokedex/data/csv/pokemon.csv)\n",
        "    - [types.csv](https://github.com/PokeAPI/pokedex/blob/master-pokeapi/pokedex/data/csv/types.csv)\n",
        "    - [pokemon_types.csv](https://github.com/PokeAPI/pokedex/blob/master-pokeapi/pokedex/data/csv/pokemon_types.csv)\n",
        "\n",
        "- What are the rules for naming the sprite images?\n",
        "    ```\n",
        "    if (is_default):\n",
        "        png_name = pokemon::id.png\n",
        "    else:\n",
        "        - look up the species name\n",
        "        - in the current identifier, replace the species name with the species id\n",
        "        - png_name = current identifier + .png\n",
        "    ```\n",
        "\n",
        "- [Pokemon with Form Differences](https://bulbapedia.bulbagarden.net/wiki/List_of_Pok%C3%A9mon_with_form_differences)\n",
        "    - I think it makes sense to process the exceptions found here, instead of trying to write a rule for them"
      ]
    },
    {
      "cell_type": "code",
      "metadata": {
        "colab": {
          "base_uri": "https://localhost:8080/"
        },
        "id": "HX8yjAsrGUx_",
        "outputId": "b4656e5a-c60a-4b29-8a41-87d2093bb906"
      },
      "source": [
        "!git clone https://github.com/PokeAPI/sprites.git"
      ],
      "execution_count": 1,
      "outputs": [
        {
          "output_type": "stream",
          "text": [
            "Cloning into 'sprites'...\n",
            "remote: Enumerating objects: 20, done.\u001b[K\n",
            "remote: Counting objects: 100% (20/20), done.\u001b[K\n",
            "remote: Compressing objects: 100% (20/20), done.\u001b[K\n",
            "remote: Total 46285 (delta 2), reused 13 (delta 0), pack-reused 46265\u001b[K\n",
            "Receiving objects: 100% (46285/46285), 372.08 MiB | 36.25 MiB/s, done.\n",
            "Resolving deltas: 100% (6458/6458), done.\n",
            "Checking out files: 100% (43220/43220), done.\n"
          ],
          "name": "stdout"
        }
      ]
    },
    {
      "cell_type": "markdown",
      "metadata": {
        "id": "nAqcUFOdGoCk"
      },
      "source": [
        "Cloning the [PokeAPI/sprites repo](https://github.com/PokeAPI/sprites) will download the `sprites` directory directly to the notebook workspace"
      ]
    },
    {
      "cell_type": "code",
      "metadata": {
        "colab": {
          "base_uri": "https://localhost:8080/"
        },
        "id": "fos0EPtfMBYa",
        "outputId": "176a2c9f-b64d-47b7-f2a9-93eea48f5794"
      },
      "source": [
        "!pip install pokebase "
      ],
      "execution_count": 2,
      "outputs": [
        {
          "output_type": "stream",
          "text": [
            "Collecting pokebase\n",
            "  Downloading https://files.pythonhosted.org/packages/29/c7/50816d1654e82cbe3e8fafcece94f5b45a584ab01d8f86c36e7c43c7e955/pokebase-1.3.0-py3-none-any.whl\n",
            "Requirement already satisfied: requests in /usr/local/lib/python3.6/dist-packages (from pokebase) (2.23.0)\n",
            "Requirement already satisfied: urllib3!=1.25.0,!=1.25.1,<1.26,>=1.21.1 in /usr/local/lib/python3.6/dist-packages (from requests->pokebase) (1.24.3)\n",
            "Requirement already satisfied: certifi>=2017.4.17 in /usr/local/lib/python3.6/dist-packages (from requests->pokebase) (2020.12.5)\n",
            "Requirement already satisfied: idna<3,>=2.5 in /usr/local/lib/python3.6/dist-packages (from requests->pokebase) (2.10)\n",
            "Requirement already satisfied: chardet<4,>=3.0.2 in /usr/local/lib/python3.6/dist-packages (from requests->pokebase) (3.0.4)\n",
            "Installing collected packages: pokebase\n",
            "Successfully installed pokebase-1.3.0\n"
          ],
          "name": "stdout"
        }
      ]
    },
    {
      "cell_type": "code",
      "metadata": {
        "id": "9PBqBI9BHKgA"
      },
      "source": [
        "#for reading in images\n",
        "import matplotlib.image as mpimg\n",
        "#for displaying images to screen\n",
        "import matplotlib.pyplot as plt\n",
        "#look up pokemon types\n",
        "import pokebase as pb\n",
        "#working with csv files\n",
        "import numpy as np\n",
        "import pandas as pd\n",
        "import requests\n",
        "import io\n",
        "import re\n",
        "import os"
      ],
      "execution_count": 3,
      "outputs": []
    },
    {
      "cell_type": "code",
      "metadata": {
        "id": "f9lQIHkKJIWi"
      },
      "source": [
        "#sprites dirs\n",
        "pokemon_dir = \"/content/sprites/sprites/pokemon/\"\n",
        "front_dir = \"/content/sprites/sprites/pokemon/front/\"\n",
        "back_dir = \"/content/sprites/sprites/pokemon/back/\"\n",
        "female_dir = \"/content/sprites/sprites/pokemon/female\"\n",
        "shiny_dir = \"/content/sprites/sprites/pokemon/shiny\"\n",
        "all_sprites = [front_dir, back_dir, female_dir, shiny_dir]\n",
        "#csv dirs\n",
        "tables_dir = \"/content/tables/\""
      ],
      "execution_count": 4,
      "outputs": []
    },
    {
      "cell_type": "code",
      "metadata": {
        "id": "eyScEED5qGOf"
      },
      "source": [
        "#create `front` and `table` directories \n",
        "try:\n",
        "    os.mkdir(front_dir)\n",
        "    os.mkdir(tables_dir)\n",
        "except FileExistsError:\n",
        "    pass"
      ],
      "execution_count": 5,
      "outputs": []
    },
    {
      "cell_type": "code",
      "metadata": {
        "id": "91WYeoEkoxHV"
      },
      "source": [
        "#move front facing sprites to their own directory\n",
        "for root, dirs, files in os.walk(pokemon_dir):\n",
        "    for f in files:\n",
        "        if \".png\" in f:\n",
        "            try:\n",
        "                old = pokemon_dir+f\n",
        "                new = front_dir+f\n",
        "                os.rename(old, new)\n",
        "            except FileNotFoundError:\n",
        "                #file already moved\n",
        "                pass"
      ],
      "execution_count": 6,
      "outputs": []
    },
    {
      "cell_type": "code",
      "metadata": {
        "id": "Msm3j73QnjgJ"
      },
      "source": [
        "#download required csv files\n",
        "csv_files = {\"pokemon.csv\":\"https://raw.githubusercontent.com/PokeAPI/pokedex/master-pokeapi/pokedex/data/csv/pokemon.csv\",\n",
        "             \"types.csv\":\"https://raw.githubusercontent.com/PokeAPI/pokedex/master-pokeapi/pokedex/data/csv/types.csv\",\n",
        "             \"pokemon_types.csv\":\"https://raw.githubusercontent.com/PokeAPI/pokedex/master-pokeapi/pokedex/data/csv/pokemon_types.csv\"}\n",
        "\n",
        "for name, url in csv_files.items():\n",
        "    url_contents = requests.get(url).content\n",
        "    decoded_contents = io.StringIO(url_contents.decode(\"utf-8\"))\n",
        "    df = pd.read_csv(decoded_contents)\n",
        "    df.to_csv(tables_dir+name)"
      ],
      "execution_count": 7,
      "outputs": []
    },
    {
      "cell_type": "code",
      "metadata": {
        "id": "r0knh95ZHYmr"
      },
      "source": [
        "def show_img(img_path):\n",
        "    \"\"\"\n",
        "    Display the image at `img_path` on the screen. \n",
        "\n",
        "    Args:    \n",
        "    img_path (str):  Path to image\n",
        "    \"\"\"\n",
        "\n",
        "    img = mpimg.imread(img_path)\n",
        "    plt.imshow(img);\n",
        "    return"
      ],
      "execution_count": 8,
      "outputs": []
    },
    {
      "cell_type": "code",
      "metadata": {
        "id": "liqzI-PXQ912"
      },
      "source": [
        "def pokemon_type_database(identifier):\n",
        "    \"\"\"\n",
        "    Use Pokebase API to get a list of pokemon types \n",
        "\n",
        "    Args:\n",
        "    identifier (str):  Name used to search Pokebase API\n",
        "    \"\"\"\n",
        "\n",
        "    #create a pokemon object\n",
        "    pkmn = pb.pokemon(identifier)\n",
        "    #create a list of the types as strings\n",
        "    return [str(t.type) for t in pkmn.types]"
      ],
      "execution_count": 9,
      "outputs": []
    },
    {
      "cell_type": "markdown",
      "metadata": {
        "id": "-NKgHMc2rhbb"
      },
      "source": [
        "`type` is a built-in function for Python. Unfortunately, this is the required syntax for accessing a Pokemon's type attribute."
      ]
    },
    {
      "cell_type": "code",
      "metadata": {
        "id": "2BykVAwGoew3"
      },
      "source": [
        "#create dataframes to work with csv files\n",
        "pokemonDF = pd.read_csv(tables_dir+\"pokemon.csv\")\n",
        "pokemon_typesDF = pd.read_csv(tables_dir+\"pokemon_types.csv\")\n",
        "typesDF = pd.read_csv(tables_dir+\"types.csv\")"
      ],
      "execution_count": 10,
      "outputs": []
    },
    {
      "cell_type": "code",
      "metadata": {
        "id": "faecgcgsRmVP"
      },
      "source": [
        "#select specific columns from each dataframe\n",
        "pokemonDF = pokemonDF[[\"id\", \"identifier\", \"species_id\", \"is_default\"]]\n",
        "pokemon_typesDF = pokemon_typesDF[[\"pokemon_id\", \"type_id\", \"slot\"]]\n",
        "typesDF = typesDF[[\"id\", \"identifier\"]]"
      ],
      "execution_count": 11,
      "outputs": []
    },
    {
      "cell_type": "code",
      "metadata": {
        "id": "MSJRadfEI0b4"
      },
      "source": [
        "def parse_for_id(filename):\n",
        "    \"\"\"\n",
        "    Given a .PNG filename, search for an id number.\n",
        "    Returns `None` if no id number can be found.\n",
        "\n",
        "    Args:\n",
        "    filename (str):  Full path to .PNG file in local directory\n",
        "\n",
        "    Returns:\n",
        "    (int):  The id as an integer\n",
        "    (None):  If no id number can be found\n",
        "    \"\"\"\n",
        "\n",
        "    pattern = r\"\\d+\"\n",
        "    found = re.findall(pattern, filename)\n",
        "    if found:\n",
        "        return int(found[0])\n",
        "    else:\n",
        "        return None\n",
        "    #end parse_for_id"
      ],
      "execution_count": 12,
      "outputs": []
    },
    {
      "cell_type": "code",
      "metadata": {
        "id": "mNLRtZDyjUn0"
      },
      "source": [
        "def is_in_pokemonDF(id):\n",
        "    \"\"\"\n",
        "    Determine if the given id can be used to index `pokemon.csv`\n",
        "\n",
        "    Args:\n",
        "    id (int):  Numerical id specifying a pokemon to search\n",
        "\n",
        "    Returns:\n",
        "    (bool):  True if id is a key in `pokemon.csv`. Else, False.\n",
        "    \"\"\"\n",
        "\n",
        "    available_ids = list(pokemonDF[\"id\"].values)\n",
        "    return id in available_ids"
      ],
      "execution_count": 13,
      "outputs": []
    },
    {
      "cell_type": "code",
      "metadata": {
        "id": "nodeE4biSlN3",
        "colab": {
          "base_uri": "https://localhost:8080/"
        },
        "outputId": "06acf344-61bd-47be-b595-c3b6e6f5b954"
      },
      "source": [
        "def get_type(pokemon_id):\n",
        "    \"\"\"\n",
        "    Get the primary and secondary typing of a Pokemon from its pokemon_id.\n",
        "    Uses `pokemon_types.csv` to lookup records.\n",
        "\n",
        "    Args:\n",
        "    pokemon_id (int):  The integer id value in `pokemon.csv`\n",
        "    \"\"\"\n",
        "    return pokemon_typesDF[pokemon_typesDF[\"pokemon_id\"]==pokemon_id][\"type_id\"].values\n",
        "\n",
        "get_type(1)"
      ],
      "execution_count": 14,
      "outputs": [
        {
          "output_type": "execute_result",
          "data": {
            "text/plain": [
              "array([12,  4])"
            ]
          },
          "metadata": {
            "tags": []
          },
          "execution_count": 14
        }
      ]
    },
    {
      "cell_type": "code",
      "metadata": {
        "id": "snJDOhXDRtPp",
        "colab": {
          "base_uri": "https://localhost:8080/"
        },
        "outputId": "e95ea0b7-0423-4a31-aefd-ef7f3be2312f"
      },
      "source": [
        "def decode_type(ids):\n",
        "    \"\"\"\n",
        "    Decode the Pokemon type(s) from numerical id\n",
        "\n",
        "    Args:\n",
        "    ids ([int]):  List of id numbers as integers\n",
        "    \"\"\"\n",
        "\n",
        "    return [typesDF[typesDF[\"id\"]==id][\"identifier\"].values[0] for id in ids]\n",
        "\n",
        "decode_type([1,2,3])"
      ],
      "execution_count": 15,
      "outputs": [
        {
          "output_type": "execute_result",
          "data": {
            "text/plain": [
              "['normal', 'fighting', 'flying']"
            ]
          },
          "metadata": {
            "tags": []
          },
          "execution_count": 15
        }
      ]
    },
    {
      "cell_type": "code",
      "metadata": {
        "id": "vPrukTD31d5Z"
      },
      "source": [
        "#search a directory for filenames that can't be used to search `pokemon.csv`\n",
        "unwanted_filenames = []\n",
        "def find_unwanted_filenames(directory):\n",
        "    for root, dirs, filenames in os.walk(directory):\n",
        "        for f in filenames:\n",
        "            possible_id = parse_for_id(f)\n",
        "            if not is_in_pokemonDF(possible_id):\n",
        "                unwanted_filenames.append(f)\n",
        "    return "
      ],
      "execution_count": 16,
      "outputs": []
    },
    {
      "cell_type": "code",
      "metadata": {
        "colab": {
          "base_uri": "https://localhost:8080/"
        },
        "id": "4CxkY5Ts18DP",
        "outputId": "654796c2-1c7a-405c-9692-2e36ec011ec5"
      },
      "source": [
        "#check for unique, unwanted filenames in all the main directories\n",
        "for d in all_sprites:\n",
        "    find_unwanted_filenames(d)\n",
        "unwanted_filenames = list(set(unwanted_filenames))\n",
        "unwanted_filenames"
      ],
      "execution_count": 17,
      "outputs": [
        {
          "output_type": "execute_result",
          "data": {
            "text/plain": [
              "['0.png', 'egg.png', 'egg-manaphy.png', 'substitute.png']"
            ]
          },
          "metadata": {
            "tags": []
          },
          "execution_count": 17
        }
      ]
    },
    {
      "cell_type": "code",
      "metadata": {
        "id": "2g32B-_c5FYG"
      },
      "source": [
        "#create a small dataset of filenames to test with\n",
        "for _, _, filenames in os.walk(front_dir):\n",
        "    small_filenames = [f for f in filenames[:10]]"
      ],
      "execution_count": 18,
      "outputs": []
    },
    {
      "cell_type": "code",
      "metadata": {
        "colab": {
          "base_uri": "https://localhost:8080/"
        },
        "id": "NWCu-6NC5mlR",
        "outputId": "70765349-4f4d-4c29-df09-81635bc315b1"
      },
      "source": [
        "small_filenames"
      ],
      "execution_count": 19,
      "outputs": [
        {
          "output_type": "execute_result",
          "data": {
            "text/plain": [
              "['390.png',\n",
              " '745-midday.png',\n",
              " '536.png',\n",
              " '154.png',\n",
              " '65.png',\n",
              " '458.png',\n",
              " '710-super.png',\n",
              " '678.png',\n",
              " '518.png',\n",
              " '669-red.png']"
            ]
          },
          "metadata": {
            "tags": []
          },
          "execution_count": 19
        }
      ]
    },
    {
      "cell_type": "code",
      "metadata": {
        "id": "pQOW977rUG4c",
        "colab": {
          "base_uri": "https://localhost:8080/"
        },
        "outputId": "9e6e91eb-6600-4f03-d6ab-635305c5c665"
      },
      "source": [
        "for png_name in small_filenames:\n",
        "    if png_name not in unwanted_filenames:\n",
        "        try:\n",
        "            id = parse_for_id(png_name)\n",
        "            pokemon_types = pokemon_type_database(id)\n",
        "            identifier = pokemonDF[pokemonDF[\"id\"]==id][\"identifier\"].values[0]\n",
        "            print(f\"{identifier}:  {list(pokemon_types)}\")\n",
        "        except ValueError:\n",
        "            print(png_name)"
      ],
      "execution_count": 20,
      "outputs": [
        {
          "output_type": "stream",
          "text": [
            "chimchar:  ['fire']\n",
            "lycanroc-midday:  ['rock']\n",
            "palpitoad:  ['water', 'ground']\n",
            "meganium:  ['grass']\n",
            "alakazam:  ['psychic']\n",
            "mantyke:  ['water', 'flying']\n",
            "pumpkaboo-average:  ['ghost', 'grass']\n",
            "meowstic-male:  ['psychic']\n",
            "musharna:  ['psychic']\n",
            "flabebe:  ['fairy']\n"
          ],
          "name": "stdout"
        }
      ]
    },
    {
      "cell_type": "code",
      "metadata": {
        "colab": {
          "base_uri": "https://localhost:8080/",
          "height": 514
        },
        "id": "DQBk0ZgS_j5N",
        "outputId": "96afabd8-8a77-4db1-806b-64a246fd4bed"
      },
      "source": [
        "pokemonDF[pokemonDF[\"species_id\"]==25]"
      ],
      "execution_count": 21,
      "outputs": [
        {
          "output_type": "execute_result",
          "data": {
            "text/html": [
              "<div>\n",
              "<style scoped>\n",
              "    .dataframe tbody tr th:only-of-type {\n",
              "        vertical-align: middle;\n",
              "    }\n",
              "\n",
              "    .dataframe tbody tr th {\n",
              "        vertical-align: top;\n",
              "    }\n",
              "\n",
              "    .dataframe thead th {\n",
              "        text-align: right;\n",
              "    }\n",
              "</style>\n",
              "<table border=\"1\" class=\"dataframe\">\n",
              "  <thead>\n",
              "    <tr style=\"text-align: right;\">\n",
              "      <th></th>\n",
              "      <th>id</th>\n",
              "      <th>identifier</th>\n",
              "      <th>species_id</th>\n",
              "      <th>is_default</th>\n",
              "    </tr>\n",
              "  </thead>\n",
              "  <tbody>\n",
              "    <tr>\n",
              "      <th>24</th>\n",
              "      <td>25</td>\n",
              "      <td>pikachu</td>\n",
              "      <td>25</td>\n",
              "      <td>1</td>\n",
              "    </tr>\n",
              "    <tr>\n",
              "      <th>977</th>\n",
              "      <td>10080</td>\n",
              "      <td>pikachu-rock-star</td>\n",
              "      <td>25</td>\n",
              "      <td>0</td>\n",
              "    </tr>\n",
              "    <tr>\n",
              "      <th>978</th>\n",
              "      <td>10081</td>\n",
              "      <td>pikachu-belle</td>\n",
              "      <td>25</td>\n",
              "      <td>0</td>\n",
              "    </tr>\n",
              "    <tr>\n",
              "      <th>979</th>\n",
              "      <td>10082</td>\n",
              "      <td>pikachu-pop-star</td>\n",
              "      <td>25</td>\n",
              "      <td>0</td>\n",
              "    </tr>\n",
              "    <tr>\n",
              "      <th>980</th>\n",
              "      <td>10083</td>\n",
              "      <td>pikachu-phd</td>\n",
              "      <td>25</td>\n",
              "      <td>0</td>\n",
              "    </tr>\n",
              "    <tr>\n",
              "      <th>981</th>\n",
              "      <td>10084</td>\n",
              "      <td>pikachu-libre</td>\n",
              "      <td>25</td>\n",
              "      <td>0</td>\n",
              "    </tr>\n",
              "    <tr>\n",
              "      <th>982</th>\n",
              "      <td>10085</td>\n",
              "      <td>pikachu-cosplay</td>\n",
              "      <td>25</td>\n",
              "      <td>0</td>\n",
              "    </tr>\n",
              "    <tr>\n",
              "      <th>991</th>\n",
              "      <td>10094</td>\n",
              "      <td>pikachu-original-cap</td>\n",
              "      <td>25</td>\n",
              "      <td>0</td>\n",
              "    </tr>\n",
              "    <tr>\n",
              "      <th>992</th>\n",
              "      <td>10095</td>\n",
              "      <td>pikachu-hoenn-cap</td>\n",
              "      <td>25</td>\n",
              "      <td>0</td>\n",
              "    </tr>\n",
              "    <tr>\n",
              "      <th>993</th>\n",
              "      <td>10096</td>\n",
              "      <td>pikachu-sinnoh-cap</td>\n",
              "      <td>25</td>\n",
              "      <td>0</td>\n",
              "    </tr>\n",
              "    <tr>\n",
              "      <th>994</th>\n",
              "      <td>10097</td>\n",
              "      <td>pikachu-unova-cap</td>\n",
              "      <td>25</td>\n",
              "      <td>0</td>\n",
              "    </tr>\n",
              "    <tr>\n",
              "      <th>995</th>\n",
              "      <td>10098</td>\n",
              "      <td>pikachu-kalos-cap</td>\n",
              "      <td>25</td>\n",
              "      <td>0</td>\n",
              "    </tr>\n",
              "    <tr>\n",
              "      <th>996</th>\n",
              "      <td>10099</td>\n",
              "      <td>pikachu-alola-cap</td>\n",
              "      <td>25</td>\n",
              "      <td>0</td>\n",
              "    </tr>\n",
              "    <tr>\n",
              "      <th>1045</th>\n",
              "      <td>10148</td>\n",
              "      <td>pikachu-partner-cap</td>\n",
              "      <td>25</td>\n",
              "      <td>0</td>\n",
              "    </tr>\n",
              "    <tr>\n",
              "      <th>1087</th>\n",
              "      <td>10190</td>\n",
              "      <td>pikachu-gmax</td>\n",
              "      <td>25</td>\n",
              "      <td>0</td>\n",
              "    </tr>\n",
              "  </tbody>\n",
              "</table>\n",
              "</div>"
            ],
            "text/plain": [
              "         id            identifier  species_id  is_default\n",
              "24       25               pikachu          25           1\n",
              "977   10080     pikachu-rock-star          25           0\n",
              "978   10081         pikachu-belle          25           0\n",
              "979   10082      pikachu-pop-star          25           0\n",
              "980   10083           pikachu-phd          25           0\n",
              "981   10084         pikachu-libre          25           0\n",
              "982   10085       pikachu-cosplay          25           0\n",
              "991   10094  pikachu-original-cap          25           0\n",
              "992   10095     pikachu-hoenn-cap          25           0\n",
              "993   10096    pikachu-sinnoh-cap          25           0\n",
              "994   10097     pikachu-unova-cap          25           0\n",
              "995   10098     pikachu-kalos-cap          25           0\n",
              "996   10099     pikachu-alola-cap          25           0\n",
              "1045  10148   pikachu-partner-cap          25           0\n",
              "1087  10190          pikachu-gmax          25           0"
            ]
          },
          "metadata": {
            "tags": []
          },
          "execution_count": 21
        }
      ]
    },
    {
      "cell_type": "code",
      "metadata": {
        "colab": {
          "base_uri": "https://localhost:8080/"
        },
        "id": "44vAdzxB-W45",
        "outputId": "d042f6eb-1987-4c0f-ef0f-6b81175758cf"
      },
      "source": [
        "def format_filename_for_database(filename):\n",
        "    id = parse_for_id(filename)\n",
        "    species_id = pokemonDF[pokemonDF[\"id\"]==id][\"species_id\"].values[0]\n",
        "    species = pokemonDF[pokemonDF[\"species_id\"]==species_id][\"identifier\"].values[0]\n",
        "    filename = re.sub(str(id), species, filename)\n",
        "    return filename\n",
        "\n",
        "print(format_filename_for_database(\"212-mega.png\"))"
      ],
      "execution_count": 22,
      "outputs": [
        {
          "output_type": "stream",
          "text": [
            "scizor-mega.png\n"
          ],
          "name": "stdout"
        }
      ]
    },
    {
      "cell_type": "code",
      "metadata": {
        "colab": {
          "base_uri": "https://localhost:8080/"
        },
        "id": "uSLJtWCxARCi",
        "outputId": "492a9e24-c9ab-4775-fefe-dc0a9e3a2623"
      },
      "source": [
        "pokemon_type_database(\"pikachu-kalos-cap\")"
      ],
      "execution_count": 23,
      "outputs": [
        {
          "output_type": "execute_result",
          "data": {
            "text/plain": [
              "['electric']"
            ]
          },
          "metadata": {
            "tags": []
          },
          "execution_count": 23
        }
      ]
    },
    {
      "cell_type": "code",
      "metadata": {
        "colab": {
          "base_uri": "https://localhost:8080/"
        },
        "id": "_wpOR-0QBgb_",
        "outputId": "f9ad0dc5-a7d0-4d39-da4c-0dc702187bd1"
      },
      "source": [
        "pokemon_type_database(\"unown\")"
      ],
      "execution_count": 24,
      "outputs": [
        {
          "output_type": "execute_result",
          "data": {
            "text/plain": [
              "['psychic']"
            ]
          },
          "metadata": {
            "tags": []
          },
          "execution_count": 24
        }
      ]
    },
    {
      "cell_type": "markdown",
      "metadata": {
        "id": "IclHcXECJVha"
      },
      "source": [
        "# Sieve Requirements #\n",
        "\n",
        "- The `id` in the filename matches a `pokemon_id` in `pokemon_types.csv`\n",
        "    - Example: \"1.png\"\n",
        "- The filename contains the identifying type\n",
        "    - Example:  \"493-bug.png\"\n",
        "- PokeBase can be used to lookup the type if the `id` in the filename is replaced with the species name\n",
        "    - Example:  \"150-mega-x.png\"\n",
        "    - Example:  \"3-mega.png\"\n",
        "    - Example:  \"3-gmax.png\"\n",
        "    - Example:  \"351-rainy.png\"\n",
        "- The `id` in the filename is a proxy for an `id` that can be looked up in `pokemon_types.csv`\n",
        "    - Example:  \"413-plant.png\" --> \"10004.png\"\n",
        "- The `id` is all that is needed, but the filename contributes extra information\n",
        "    - Example:  \"386-speed.png\"\n",
        "    - Example:  \"201-a.png\""
      ]
    },
    {
      "cell_type": "code",
      "metadata": {
        "colab": {
          "base_uri": "https://localhost:8080/",
          "height": 450
        },
        "id": "OGSFlP-NZGsS",
        "outputId": "13341f2e-f1cb-4ffa-c3ec-12065b0d330b"
      },
      "source": [
        "#pivoted version of pokemon_typesDF\n",
        "types_pivot = pd.pivot_table(pokemon_typesDF, values=\"type_id\", index=[\"pokemon_id\"], columns=[\"slot\"])\n",
        "types_pivot"
      ],
      "execution_count": 25,
      "outputs": [
        {
          "output_type": "execute_result",
          "data": {
            "text/html": [
              "<div>\n",
              "<style scoped>\n",
              "    .dataframe tbody tr th:only-of-type {\n",
              "        vertical-align: middle;\n",
              "    }\n",
              "\n",
              "    .dataframe tbody tr th {\n",
              "        vertical-align: top;\n",
              "    }\n",
              "\n",
              "    .dataframe thead th {\n",
              "        text-align: right;\n",
              "    }\n",
              "</style>\n",
              "<table border=\"1\" class=\"dataframe\">\n",
              "  <thead>\n",
              "    <tr style=\"text-align: right;\">\n",
              "      <th>slot</th>\n",
              "      <th>1</th>\n",
              "      <th>2</th>\n",
              "    </tr>\n",
              "    <tr>\n",
              "      <th>pokemon_id</th>\n",
              "      <th></th>\n",
              "      <th></th>\n",
              "    </tr>\n",
              "  </thead>\n",
              "  <tbody>\n",
              "    <tr>\n",
              "      <th>1</th>\n",
              "      <td>12.0</td>\n",
              "      <td>4.0</td>\n",
              "    </tr>\n",
              "    <tr>\n",
              "      <th>2</th>\n",
              "      <td>12.0</td>\n",
              "      <td>4.0</td>\n",
              "    </tr>\n",
              "    <tr>\n",
              "      <th>3</th>\n",
              "      <td>12.0</td>\n",
              "      <td>4.0</td>\n",
              "    </tr>\n",
              "    <tr>\n",
              "      <th>4</th>\n",
              "      <td>10.0</td>\n",
              "      <td>NaN</td>\n",
              "    </tr>\n",
              "    <tr>\n",
              "      <th>5</th>\n",
              "      <td>10.0</td>\n",
              "      <td>NaN</td>\n",
              "    </tr>\n",
              "    <tr>\n",
              "      <th>...</th>\n",
              "      <td>...</td>\n",
              "      <td>...</td>\n",
              "    </tr>\n",
              "    <tr>\n",
              "      <th>10216</th>\n",
              "      <td>9.0</td>\n",
              "      <td>16.0</td>\n",
              "    </tr>\n",
              "    <tr>\n",
              "      <th>10217</th>\n",
              "      <td>4.0</td>\n",
              "      <td>16.0</td>\n",
              "    </tr>\n",
              "    <tr>\n",
              "      <th>10218</th>\n",
              "      <td>2.0</td>\n",
              "      <td>17.0</td>\n",
              "    </tr>\n",
              "    <tr>\n",
              "      <th>10219</th>\n",
              "      <td>2.0</td>\n",
              "      <td>11.0</td>\n",
              "    </tr>\n",
              "    <tr>\n",
              "      <th>10220</th>\n",
              "      <td>13.0</td>\n",
              "      <td>4.0</td>\n",
              "    </tr>\n",
              "  </tbody>\n",
              "</table>\n",
              "<p>1118 rows × 2 columns</p>\n",
              "</div>"
            ],
            "text/plain": [
              "slot           1     2\n",
              "pokemon_id            \n",
              "1           12.0   4.0\n",
              "2           12.0   4.0\n",
              "3           12.0   4.0\n",
              "4           10.0   NaN\n",
              "5           10.0   NaN\n",
              "...          ...   ...\n",
              "10216        9.0  16.0\n",
              "10217        4.0  16.0\n",
              "10218        2.0  17.0\n",
              "10219        2.0  11.0\n",
              "10220       13.0   4.0\n",
              "\n",
              "[1118 rows x 2 columns]"
            ]
          },
          "metadata": {
            "tags": []
          },
          "execution_count": 25
        }
      ]
    },
    {
      "cell_type": "code",
      "metadata": {
        "id": "qLvSa2t7aZkr"
      },
      "source": [
        "def search_pivot(filename):\n",
        "    id = parse_for_id(filename)\n",
        "    try:\n",
        "        encoded_types = types_pivot.loc[id].dropna()\n",
        "        return decode_type(encoded_types)\n",
        "    except:\n",
        "        return None"
      ],
      "execution_count": 26,
      "outputs": []
    },
    {
      "cell_type": "code",
      "metadata": {
        "colab": {
          "base_uri": "https://localhost:8080/"
        },
        "id": "zeujKVcffX-E",
        "outputId": "510eea84-8ddd-403f-92b4-fecde3b5d514"
      },
      "source": [
        "search_pivot(\"1.png\")"
      ],
      "execution_count": 27,
      "outputs": [
        {
          "output_type": "execute_result",
          "data": {
            "text/plain": [
              "['grass', 'poison']"
            ]
          },
          "metadata": {
            "tags": []
          },
          "execution_count": 27
        }
      ]
    },
    {
      "cell_type": "code",
      "metadata": {
        "colab": {
          "base_uri": "https://localhost:8080/"
        },
        "id": "wUWdNWv0fYWR",
        "outputId": "1cb03ebb-cff7-4d4e-f496-187b78506c7d"
      },
      "source": [
        "search_pivot(front_dir+\"4.png\")"
      ],
      "execution_count": 28,
      "outputs": [
        {
          "output_type": "execute_result",
          "data": {
            "text/plain": [
              "['fire']"
            ]
          },
          "metadata": {
            "tags": []
          },
          "execution_count": 28
        }
      ]
    },
    {
      "cell_type": "code",
      "metadata": {
        "id": "qU_1Pjwyf5nq"
      },
      "source": [
        "def search_filename(filename):\n",
        "    #sanitize filename \n",
        "    filename = filename[:-4]\n",
        "    filename_parts = filename.split('-')[1:]\n",
        "\n",
        "    #key terms to look for\n",
        "    possible_types = list(typesDF[\"identifier\"])\n",
        "\n",
        "    result = []\n",
        "    for p in filename_parts:\n",
        "        if p in possible_types:\n",
        "            result.append(p)\n",
        "    if len(result):\n",
        "        return result\n",
        "    else:\n",
        "        return None"
      ],
      "execution_count": 29,
      "outputs": []
    },
    {
      "cell_type": "code",
      "metadata": {
        "colab": {
          "base_uri": "https://localhost:8080/"
        },
        "id": "Ck-KduVDgTwJ",
        "outputId": "512bd74c-1b57-4a2c-8ef9-6314158f573c"
      },
      "source": [
        "search_filename(\"493-bug.png\")"
      ],
      "execution_count": 30,
      "outputs": [
        {
          "output_type": "execute_result",
          "data": {
            "text/plain": [
              "['bug']"
            ]
          },
          "metadata": {
            "tags": []
          },
          "execution_count": 30
        }
      ]
    },
    {
      "cell_type": "code",
      "metadata": {
        "id": "QqkG7_tf9TAu"
      },
      "source": [
        "search_filename(\"1.png\")"
      ],
      "execution_count": 31,
      "outputs": []
    },
    {
      "cell_type": "code",
      "metadata": {
        "id": "AUPNISix7A0L"
      },
      "source": [
        "def search_pokebase(filename):\n",
        "    id = parse_for_id(filename)\n",
        "    \n",
        "    #look for species_id\n",
        "    species_id = pokemonDF[pokemonDF[\"id\"]==id][\"species_id\"].values[0]\n",
        "    #get the species identifier\n",
        "    identifier = pokemonDF[pokemonDF[\"id\"]==id][\"identifier\"].values[0]\n",
        "    \n",
        "    #string used to create pokebase object\n",
        "    pokebase_query = re.sub(str(id), identifier, filename)[:-4]\n",
        "    try:\n",
        "        pokemon = pb.pokemon(pokebase_query)\n",
        "        return [str(t.type) for t in pokemon.types]\n",
        "    except:\n",
        "        return None"
      ],
      "execution_count": 32,
      "outputs": []
    },
    {
      "cell_type": "code",
      "metadata": {
        "colab": {
          "base_uri": "https://localhost:8080/"
        },
        "id": "X3-L3GWXlKxh",
        "outputId": "56c1a06f-3ace-452b-c935-219e28e1ed51"
      },
      "source": [
        "search_pokebase(\"150-mega-x.png\")"
      ],
      "execution_count": 33,
      "outputs": [
        {
          "output_type": "execute_result",
          "data": {
            "text/plain": [
              "['psychic', 'fighting']"
            ]
          },
          "metadata": {
            "tags": []
          },
          "execution_count": 33
        }
      ]
    },
    {
      "cell_type": "code",
      "metadata": {
        "colab": {
          "base_uri": "https://localhost:8080/"
        },
        "id": "Tmruvk8LlTj9",
        "outputId": "b90751d8-86e5-4242-a98a-b7faec3d94e0"
      },
      "source": [
        "search_pokebase(\"3-gmax.png\")"
      ],
      "execution_count": 34,
      "outputs": [
        {
          "output_type": "execute_result",
          "data": {
            "text/plain": [
              "['grass', 'poison']"
            ]
          },
          "metadata": {
            "tags": []
          },
          "execution_count": 34
        }
      ]
    },
    {
      "cell_type": "code",
      "metadata": {
        "colab": {
          "base_uri": "https://localhost:8080/"
        },
        "id": "YtZJbA-1mrwi",
        "outputId": "ff4a5683-b66c-4037-f361-a5f1b1421e93"
      },
      "source": [
        "search_pokebase(\"351-rainy.png\")"
      ],
      "execution_count": 35,
      "outputs": [
        {
          "output_type": "execute_result",
          "data": {
            "text/plain": [
              "['water']"
            ]
          },
          "metadata": {
            "tags": []
          },
          "execution_count": 35
        }
      ]
    },
    {
      "cell_type": "code",
      "metadata": {
        "id": "nkJ4cEnorhBl",
        "colab": {
          "base_uri": "https://localhost:8080/",
          "height": 268
        },
        "outputId": "50e07de5-6ee2-41ce-f0da-9a68f36f45e7"
      },
      "source": [
        "show_img(front_dir+\"10005.png\")"
      ],
      "execution_count": 36,
      "outputs": [
        {
          "output_type": "display_data",
          "data": {
            "image/png": "[encoded data removed]",
            "text/plain": [
              "<Figure size 432x288 with 1 Axes>"
            ]
          },
          "metadata": {
            "tags": [],
            "needs_background": "light"
          }
        }
      ]
    },
    {
      "cell_type": "code",
      "metadata": {
        "id": "jR8s5EJ_23dy"
      },
      "source": [
        "def search_all(filename):\n",
        "    cand0 = search_pokebase(filename)\n",
        "    cand1 = search_filename(filename)\n",
        "    cand2 = None #search_pivot(filename)\n",
        "    return [cand0, cand1, cand2]"
      ],
      "execution_count": 37,
      "outputs": []
    },
    {
      "cell_type": "code",
      "metadata": {
        "colab": {
          "base_uri": "https://localhost:8080/"
        },
        "id": "e8o8uhjS-Jr0",
        "outputId": "625a6054-007e-4feb-e12a-34ae40ac70c0"
      },
      "source": [
        "for _, _, filenames in os.walk(front_dir):\n",
        "    random_file_indices = np.random.randint(0, len(filenames), (50))\n",
        "    files = [filenames[i] for i in random_file_indices]\n",
        "    \n",
        "    for name in files:\n",
        "        result = search_all(name)\n",
        "        print(f\"{name}:  {result}\")"
      ],
      "execution_count": 38,
      "outputs": [
        {
          "output_type": "stream",
          "text": [
            "773-normal.png:  [None, ['normal'], None]\n",
            "666-savanna.png:  [None, None, None]\n",
            "210.png:  [['fairy'], None, None]\n",
            "380-mega.png:  [['dragon', 'psychic'], None, None]\n",
            "878.png:  [['steel'], None, None]\n",
            "732.png:  [['normal', 'flying'], None, None]\n",
            "254-mega.png:  [['grass', 'dragon'], None, None]\n",
            "319.png:  [['water', 'dark'], None, None]\n",
            "670-red.png:  [None, None, None]\n",
            "402.png:  [['bug'], None, None]\n",
            "10073.png:  [['normal', 'flying'], None, None]\n",
            "777.png:  [['electric', 'steel'], None, None]\n",
            "493.png:  [['normal'], None, None]\n",
            "212.png:  [['bug', 'steel'], None, None]\n",
            "418.png:  [['water'], None, None]\n",
            "54.png:  [['water'], None, None]\n",
            "297.png:  [['fighting'], None, None]\n",
            "744.png:  [['rock'], None, None]\n",
            "173.png:  [['fairy'], None, None]\n",
            "811.png:  [['grass'], None, None]\n",
            "862.png:  [['dark', 'normal'], None, None]\n",
            "10185.png:  [['psychic', 'ghost'], None, None]\n",
            "9-mega.png:  [['water'], None, None]\n",
            "10051.png:  [['psychic', 'fairy'], None, None]\n",
            "144.png:  [['ice', 'flying'], None, None]\n",
            "479-fan.png:  [['electric', 'flying'], None, None]\n",
            "484.png:  [['water', 'dragon'], None, None]\n",
            "453.png:  [['poison', 'fighting'], None, None]\n",
            "501.png:  [['water'], None, None]\n",
            "493-poison.png:  [None, ['poison'], None]\n",
            "463.png:  [['normal'], None, None]\n",
            "825.png:  [['bug', 'psychic'], None, None]\n",
            "745.png:  [['rock'], None, None]\n",
            "611.png:  [['dragon'], None, None]\n",
            "681.png:  [['steel', 'ghost'], None, None]\n",
            "10152.png:  [['rock'], None, None]\n",
            "440.png:  [['normal'], None, None]\n",
            "654.png:  [['fire'], None, None]\n",
            "318.png:  [['water', 'dark'], None, None]\n",
            "323.png:  [['fire', 'ground'], None, None]\n",
            "268.png:  [['bug'], None, None]\n",
            "741-baile.png:  [None, None, None]\n",
            "10028.png:  [['ghost', 'grass'], None, None]\n",
            "602.png:  [['electric'], None, None]\n",
            "19.png:  [['normal'], None, None]\n",
            "203.png:  [['normal', 'psychic'], None, None]\n",
            "10156.png:  [['psychic', 'ghost'], None, None]\n",
            "494.png:  [['psychic', 'fire'], None, None]\n",
            "493-steel.png:  [None, ['steel'], None]\n",
            "500.png:  [['fire', 'fighting'], None, None]\n"
          ],
          "name": "stdout"
        }
      ]
    },
    {
      "cell_type": "code",
      "metadata": {
        "colab": {
          "base_uri": "https://localhost:8080/"
        },
        "id": "jSVX6_cY-L8h",
        "outputId": "850c2670-104a-437a-b19b-80b778c830a1"
      },
      "source": [
        "foo = pokemonDF[pokemonDF[\"species_id\"]==25]\n",
        "for i in list(foo[\"id\"]):\n",
        "    print(search_all(str(i)+\".png\"))"
      ],
      "execution_count": 39,
      "outputs": [
        {
          "output_type": "stream",
          "text": [
            "[['electric'], None, None]\n",
            "[['electric'], None, None]\n",
            "[['electric'], None, None]\n",
            "[['electric'], None, None]\n",
            "[['electric'], None, None]\n",
            "[['electric'], None, None]\n",
            "[['electric'], None, None]\n",
            "[['electric'], None, None]\n",
            "[['electric'], None, None]\n",
            "[['electric'], None, None]\n",
            "[['electric'], None, None]\n",
            "[['electric'], None, None]\n",
            "[['electric'], None, None]\n",
            "[['electric'], None, None]\n",
            "[['electric'], None, None]\n"
          ],
          "name": "stdout"
        }
      ]
    },
    {
      "cell_type": "code",
      "metadata": {
        "id": "Tbqik90ZLXNX"
      },
      "source": [
        "import pandas as pd\n",
        "df = pd.read_csv(\"https://raw.githubusercontent.com/PokeAPI/pokedex/master-pokeapi/pokedex/data/csv/pokemon_form_names.csv\")"
      ],
      "execution_count": 40,
      "outputs": []
    },
    {
      "cell_type": "code",
      "metadata": {
        "colab": {
          "base_uri": "https://localhost:8080/"
        },
        "id": "lc5RtUxtaUpR",
        "outputId": "93d8538e-746e-43fd-bd1b-e2784a1aaf95"
      },
      "source": [
        "df[\"pokemon_name\"].unique()"
      ],
      "execution_count": 41,
      "outputs": [
        {
          "output_type": "execute_result",
          "data": {
            "text/plain": [
              "array([nan, 'Zarbi A', 'Unown A', 'Deoxys Normal', 'Normal Deoxys',\n",
              "       'Cheniti Plante', 'Plant Burmy', 'Cheniselle Plante',\n",
              "       'Plant Wormadam', 'Ceriflor Couvert', 'Overcast Cherrim',\n",
              "       'Sancoki Occident', 'West Shellos', 'Tritosor Occident',\n",
              "       'West Gastrodon', 'Giratina Alternative', 'Altered Giratina',\n",
              "       'Shaymin Terrestre', 'Land Shaymin', 'Arceus Normal',\n",
              "       'Normal Arceus', 'Bargantua Rouge', 'Red-Striped Basculin',\n",
              "       'Darumacho Normal', 'Standard Darmanitan', 'Vivaldaim Printemps',\n",
              "       'Spring Deerling', 'Haydaim Printemps', 'Spring Sawsbuck',\n",
              "       'Boréas Avatar', 'Incarnate Tornadus', 'Fulguris Avatar',\n",
              "       'Incarnate Thundurus', 'Démétéros Avatar', 'Incarnate Landorus',\n",
              "       'Keldeo Normal', 'Ordinary Keldeo', 'Meloetta Chant',\n",
              "       'Aria Meloetta', 'Prismillon Floraison', 'Meadow Vivillon',\n",
              "       'Flabébé Rouge', 'Red Flabébé', 'Floette Rouge', 'Red Floette',\n",
              "       'Florges Rouge', 'Red Florges', 'Couafarel Sauvage',\n",
              "       'Natural Furfrou', 'Mistigrix Mâle', 'Male Meowstic',\n",
              "       'Exagide Parade', 'Shield Aegislash', 'Pitrouille Normal',\n",
              "       'Average Pumpkaboo', 'Banshitrouye Normal', 'Average Gourgeist',\n",
              "       'Xerneas Déchaîné', 'Active Xerneas', 'Confined Hoopa',\n",
              "       'Baile Oricorio', 'Midday Lycanroc', 'Solo Wishiwashi',\n",
              "       'Red Meteor Minior', 'Disguised Mimikyu', 'Amped Toxtricity',\n",
              "       'Phony Sinistea', 'Phony Polteageist', 'Ice Face Eiscue',\n",
              "       'Male Indeedee', 'Full Belly Morpeko', 'Hero Zacian',\n",
              "       'Hero Zamazenta', 'Single Strike Urshifu', 'Zarbi B', 'Unown B',\n",
              "       'Zarbi C', 'Unown C', 'Zarbi D', 'Unown D', 'Zarbi E', 'Unown E',\n",
              "       'Zarbi F', 'Unown F', 'Zarbi G', 'Unown G', 'Zarbi H', 'Unown H',\n",
              "       'Zarbi I', 'Unown I', 'Zarbi J', 'Unown J', 'Zarbi K', 'Unown K',\n",
              "       'Zarbi L', 'Unown L', 'Zarbi M', 'Unown M', 'Zarbi N', 'Unown N',\n",
              "       'Zarbi O', 'Unown O', 'Zarbi P', 'Unown P', 'Zarbi Q', 'Unown Q',\n",
              "       'Zarbi R', 'Unown R', 'Zarbi S', 'Unown S', 'Zarbi T', 'Unown T',\n",
              "       'Zarbi U', 'Unown U', 'Zarbi V', 'Unown V', 'Zarbi W', 'Unown W',\n",
              "       'Zarbi X', 'Unown X', 'Zarbi Y', 'Unown Y', 'Zarbi Z', 'Unown Z',\n",
              "       'Zarbi !', 'Unown !', 'Zarbi ?', 'Unown ?', 'Morphéo Solaire',\n",
              "       'Sunny Castform', 'Morphéo Eau de Pluie', 'Rainy Castform',\n",
              "       'Morphéo Blizzard', 'Snowy Castform', 'Deoxys Attaque',\n",
              "       'Attack Deoxys', 'Deoxys Défense', 'Defense Deoxys',\n",
              "       'Deoxys Vitesse', 'Speed Deoxys', 'Cheniti Sable', 'Sandy Burmy',\n",
              "       'Cheniti Déchet', 'Trash Burmy', 'Cheniselle Sable',\n",
              "       'Sandy Wormadam', 'Cheniselle Déchet', 'Trash Wormadam',\n",
              "       'Ceriflor Ensoleillé', 'Sunshine Cherrim', 'Sancoki Orient',\n",
              "       'East Shellos', 'Tritosor Orient', 'East Gastrodon',\n",
              "       'Arceus Insecte', 'Bug Arceus', 'Arceus Ténèbres', 'Dark Arceus',\n",
              "       'Arceus Dragon', 'Dragon Arceus', 'Arceus Électrik',\n",
              "       'Electric Arceus', 'Arceus Combat', 'Fighting Arceus',\n",
              "       'Arceus Feu', 'Fire Arceus', 'Arceus Vol', 'Flying Arceus',\n",
              "       'Arceus Spectre', 'Ghost Arceus', 'Arceus Plante', 'Grass Arceus',\n",
              "       'Arceus Sol', 'Ground Arceus', 'Arceus Glace', 'Ice Arceus',\n",
              "       'Arceus Poison', 'Poison Arceus', 'Arceus Psy', 'Psychic Arceus',\n",
              "       'Arceus Roche', 'Rock Arceus', 'Arceus Acier', 'Steel Arceus',\n",
              "       'Arceus Eau', 'Water Arceus', 'Arceus ???', '??? Arceus',\n",
              "       'Motisma Chaleur', 'Heat Rotom', 'Motisma Lavage', 'Wash Rotom',\n",
              "       'Motisma Froid', 'Frost Rotom', 'Motisma Hélice', 'Fan Rotom',\n",
              "       'Motisma Tonte', 'Mow Rotom', 'Giratina Originel',\n",
              "       'Origin Giratina', 'Shaymin Céleste', 'Sky Shaymin',\n",
              "       'Pichu Troizépi', 'Spiky-eared Pichu', 'Bargantua Bleu',\n",
              "       'Blue-Striped Basculin', 'Darumacho Transe', 'Zen Darmanitan',\n",
              "       'Vivaldaim Été', 'Summer Deerling', 'Vivaldaim Automne',\n",
              "       'Autumn Deerling', 'Vivaldaim Hiver', 'Winter Deerling',\n",
              "       'Haydaim Été', 'Summer Sawsbuck', 'Haydaim Automne',\n",
              "       'Autumn Sawsbuck', 'Haydaim Hiver', 'Winter Sawsbuck',\n",
              "       'Meloetta Danse', 'Pirouette Meloetta', 'Genesect Aqua',\n",
              "       'Douse Genesect', 'Genesect Choc', 'Shock Genesect',\n",
              "       'Genesect Pyro', 'Burn Genesect', 'Genesect Cryo',\n",
              "       'Chill Genesect', 'Boréas Totémique', 'Therian Tornadus',\n",
              "       'Fulguris Totémique', 'Therian Thundurus', 'Démétéros Totémique',\n",
              "       'Therian Landorus', 'Kyurem Noir', 'Black Kyurem', 'Kyurem Blanc',\n",
              "       'White Kyurem', 'Keldeo Décidé', 'Resolute Keldeo', 'Arceus Fée',\n",
              "       'Fairy Arceus', 'Prismillon Blizzard', 'Icy Snow Vivillon',\n",
              "       'Prismillon Banquise', 'Polar Vivillon', 'Prismillon Glace',\n",
              "       'Tundra Vivillon', 'Prismillon Continent', 'Continental Vivillon',\n",
              "       'Prismillon Verdure', 'Garden Vivillon', 'Prismillon Monarchie',\n",
              "       'Elegant Vivillon', 'Prismillon Métropole', 'Modern Vivillon',\n",
              "       'Prismillon Rivage', 'Marine Vivillon', 'Prismillon Archipel',\n",
              "       'Archipelago Vivillon', 'Prismillon Sécheresse',\n",
              "       'High Plains Vivillon', 'Prismillon Sable', 'Sandstorm Vivillon',\n",
              "       'Prismillon Delta', 'River Vivillon', 'Prismillon Cyclone',\n",
              "       'Monsoon Vivillon', 'Prismillon Mangrove', 'Savanna Vivillon',\n",
              "       'Prismillon Zénith', 'Sun Vivillon', 'Prismillon Soleil Levant',\n",
              "       'Ocean Vivillon', 'Prismillon Jungle', 'Jungle Vivillon',\n",
              "       'Flabébé Jaune', 'Yellow Flabébé', 'Flabébé Orange',\n",
              "       'Orange Flabébé', 'Flabébé Bleu', 'Blue Flabébé', 'Flabébé Blanc',\n",
              "       'White Flabébé', 'Floette Jaune', 'Yellow Floette',\n",
              "       'Floette Orange', 'Orange Floette', 'Floette Bleu', 'Blue Floette',\n",
              "       'Floette Blanc', 'White Floette', 'Florges Jaune',\n",
              "       'Yellow Florges', 'Florges Orange', 'Orange Florges',\n",
              "       'Florges Bleu', 'Blue Florges', 'Florges Blanc', 'White Florges',\n",
              "       'Couafarel Cœur', 'Heart Furfrou', 'Couafarel Étoile',\n",
              "       'Star Furfrou', 'Couafarel Diamant', 'Diamond Furfrou',\n",
              "       'Couafarel Demoiselle', 'Debutante Furfrou', 'Couafarel Madame',\n",
              "       'Matron Furfrou', 'Couafarel Monsieur', 'Dandy Furfrou',\n",
              "       'Couafarel Reine', 'La Reine Furfrou', 'Couafarel Kabuki',\n",
              "       'Kabuki Furfrou', 'Couafarel Pharaon', 'Pharaoh Furfrou',\n",
              "       'Mistigrix Femelle', 'Female Meowstic', 'Exagide Assaut',\n",
              "       'Blade Aegislash', 'Pitrouille Mini', 'Small Pumpkaboo',\n",
              "       'Pitrouille Maxi', 'Large Pumpkaboo', 'Pitrouille Ultra',\n",
              "       'Super Pumpkaboo', 'Banshitrouye Mini', 'Small Gourgeist',\n",
              "       'Banshitrouye Maxi', 'Large Gourgeist', 'Banshitrouye Ultra',\n",
              "       'Super Gourgeist', 'Xerneas Paisible', 'Neutral Xerneas',\n",
              "       'Méga-Florizarre', 'Mega Venusaur', 'Méga-Dracaufeu X',\n",
              "       'Mega Charizard X', 'Méga-Dracaufeu Y', 'Mega Charizard Y',\n",
              "       'Méga-Tortank', 'Mega Blastoise', 'Méga-Alakazam', 'Mega Alakazam',\n",
              "       'Méga-Ectoplasma', 'Mega Gengar', 'Méga-Kangourex',\n",
              "       'Mega Kangaskhan', 'Méga-Scarabrute', 'Mega Pinsir',\n",
              "       'Méga-Léviator', 'Mega Gyarados', 'Méga-Ptéra', 'Mega Aerodactyl',\n",
              "       'Méga-Mewtwo X', 'Mega Mewtwo X', 'Méga-Mewtwo Y', 'Mega Mewtwo Y',\n",
              "       'Méga-Pharamp', 'Mega Ampharos', 'Méga-Cizayox', 'Mega Scizor',\n",
              "       'Méga-Scarhino', 'Mega Heracross', 'Méga-Démolosse',\n",
              "       'Mega Houndoom', 'Méga-Tyranocif', 'Mega Tyranitar',\n",
              "       'Méga-Braségali', 'Mega Blaziken', 'Méga-Gardevoir',\n",
              "       'Mega Gardevoir', 'Méga-Mysdibule', 'Mega Mawile', 'Méga-Galeking',\n",
              "       'Mega Aggron', 'Méga-Charmina', 'Mega Medicham', 'Méga-Élecsprint',\n",
              "       'Mega Manectric', 'Méga-Branette', 'Mega Banette', 'Méga-Absol',\n",
              "       'Mega Absol', 'Méga-Carchacrok', 'Mega Garchomp', 'Méga-Lucario',\n",
              "       'Mega Lucario', 'Méga-Blizzaroi', 'Mega Abomasnow',\n",
              "       'Prismillon Fantaisie', 'Fancy Vivillon', 'Prismillon Poké Ball',\n",
              "       'Poké Ball Vivillon', 'Floette Éternel', 'Eternal Floette',\n",
              "       'Méga-Latias', 'Mega Latias', 'Méga-Latios', 'Mega Latios',\n",
              "       'Méga-Laggron', 'Mega Swampert', 'Méga-Jungko', 'Mega Sceptile',\n",
              "       'Méga-Ténéfix', 'Mega Sableye', 'Méga-Altaria', 'Mega Altaria',\n",
              "       'Méga-Gallame', 'Mega Gallade', 'Méga-Nanméouïe', 'Mega Audino',\n",
              "       'Méga-Sharpedo', 'Mega Sharpedo', 'Méga-Flagadoss', 'Mega Slowbro',\n",
              "       'Méga-Steelix', 'Mega Steelix', 'Méga-Roucarnage', 'Mega Pidgeot',\n",
              "       'Méga-Oniglali', 'Mega Glalie', 'Méga-Diancie', 'Mega Diancie',\n",
              "       'Méga-Métalosse', 'Mega Metagross', 'Primo-Kyogre',\n",
              "       'Primal Kyogre', 'Primo-Groudon', 'Primal Groudon',\n",
              "       'Méga-Rayquaza', 'Mega Rayquaza', 'Pikachu Rockeur',\n",
              "       'Pikachu Rock Star', 'Pikachu Lady', 'Pikachu Belle',\n",
              "       'Pikachu Star', 'Pikachu Pop Star', 'Pikachu Docteur',\n",
              "       'Pikachu Ph.D.', 'Pikachu Catcheur', 'Pikachu Libre',\n",
              "       'Pikachu Cosplayeur', 'Cosplay Pikachu', 'Hoopa Déchaîné',\n",
              "       'Hoopa Unbound', 'Méga-Camérupt', 'Mega Camerupt', 'Méga-Lockpin',\n",
              "       'Mega Lopunny', 'Méga-Drattak', 'Mega Salamence',\n",
              "       'Méga-Dardargnan', 'Mega Beedrill', 'Alolan Rattata',\n",
              "       'Alolan Raticate', 'Totem Alolan Raticate', 'Original Cap Pikachu',\n",
              "       'Hoenn Cap Pikachu', 'Sinnoh Cap Pikachu', 'Unova Cap Pikachu',\n",
              "       'Kalos Cap Pikachu', 'Alola Cap Pikachu', 'Alolan Raichu',\n",
              "       'Alolan Sandshrew', 'Alolan Sandslash', 'Alolan Vulpix',\n",
              "       'Alolan Ninetales', 'Alolan Diglett', 'Alolan Dugtrio',\n",
              "       'Alolan Meowth', 'Alolan Persian', 'Alolan Geodude',\n",
              "       'Alolan Graveler', 'Alolan Golem', 'Alolan Grimer', 'Alolan Muk',\n",
              "       'Alolan Exeggutor', 'Alolan Marowak', 'Battle Bond Greninja',\n",
              "       \"Ash's Greninja\", '10% Zygarde', '50% Zygarde', 'Complete Zygarde',\n",
              "       'Totem Gumshoos', 'Totem Vikavolt', 'Pom-pom Oricorio',\n",
              "       'Pa’u Oricorio', 'Sensu Oricorio', 'Midnight Lycanroc',\n",
              "       'School Wishiwashi', 'Totem Lurantis', 'Totem Salazzle',\n",
              "       'Orange Meteor Minior', 'Yellow Meteor Minior',\n",
              "       'Green Meteor Minior', 'Blue Meteor Minior',\n",
              "       'Indigo Meteor Minior', 'Violent Meteor Minior', 'Red Core Minior',\n",
              "       'Orange Core Minior', 'Yellow Core Minior', 'Green Core Minior',\n",
              "       'Blue Core Minior', 'Indigo Core Minior', 'Violet Core Minior',\n",
              "       'Busted Mimikyu', 'Totem Disguised Mimikyu',\n",
              "       'Totem Busted Mimikyu', 'Totem Kommo-o', 'Original Magearna',\n",
              "       'Partner Cap Pikachu', 'Totem Ribombee', 'Own Tempo Rockruff',\n",
              "       'Dusk Lycanroc', 'Totem Araquanid', 'Totem Togedemaru',\n",
              "       'Dusk Necrozma', 'Dawn Necrozma', 'Ultra Necrozma',\n",
              "       'Galarian Meowth', 'Galarian Ponyta', 'Galarian Rapidash',\n",
              "       'Galarian Slowpoke', 'Galarian Slowbro', \"Galarian Farfetch'd\",\n",
              "       'Galarian Weezing', 'Galarian Mr. Mime', 'Galarian Articuno',\n",
              "       'Galarian Zapdos', 'Galarian Moltres', 'Galarian Slowking',\n",
              "       'Galarian Corsola', 'Galarian Zigzagoon', 'Galarian Linoone',\n",
              "       'Galarian Darumaka', 'Galarian Darmanitan',\n",
              "       'Galarian Zen Darmanitan', 'Galarian Yamask', 'Galarian Stunfisk',\n",
              "       'Low Key Toxtricity', 'Antique Sinistea', 'Antique Polteageist',\n",
              "       'Noice Face Eiscue', 'Female Indeedee', 'Hangry Morpeko',\n",
              "       'Crowned Zacian', 'Crowned Zamazenta', 'Rapid Strike Urshifu',\n",
              "       'Dada Zarude', 'Ice Rider Calyrex', 'Shadow Rider Calyrex',\n",
              "       'Gigantamax Venusaur', 'Gigantamax Charizard',\n",
              "       'Gigantamax Blastoise', 'Gigantamax Butterfree',\n",
              "       'Gigantamax Pikachu', 'Gigantamax Meowth', 'Gigantamax Machamp',\n",
              "       'Gigantamax Gengar', 'Gigantamax Kingler', 'Gigantamax Lapras',\n",
              "       'Gigantamax Eevee', 'Gigantamax Snorlax', 'Gigantamax Garbodor',\n",
              "       'Gigantamax Melmetal', 'Gigantamax Rillaboom',\n",
              "       'Gigantamax Cinderace', 'Gigantamax Inteleon',\n",
              "       'Gigantamax Corviknight', 'Gigantamax Orbeetle',\n",
              "       'Gigantamax Drednaw', 'Gigantamax Coalossal', 'Gigantamax Flapple',\n",
              "       'Gigantamax Appletun', 'Gigantamax Sandaconda',\n",
              "       'Gigantamax Amped Toxtricity', 'Gigantamax Centiskorch',\n",
              "       'Gigantamax Hatterene', 'Gigantamax Grimmsnarl',\n",
              "       'Gigantamax Alcremie', 'Gigantamax Copperajah',\n",
              "       'Gigantamax Duraludon', 'Eternamax Eternatus',\n",
              "       'Gigantamax Single Strike Urshifu',\n",
              "       'Gigantamax Rapid Strike Urshifu', 'Gigantamax Low Key Toxtricity'],\n",
              "      dtype=object)"
            ]
          },
          "metadata": {
            "tags": []
          },
          "execution_count": 41
        }
      ]
    },
    {
      "cell_type": "code",
      "metadata": {
        "id": "bpHYZbUcaX8O"
      },
      "source": [
        ""
      ],
      "execution_count": 41,
      "outputs": []
    }
  ]
}